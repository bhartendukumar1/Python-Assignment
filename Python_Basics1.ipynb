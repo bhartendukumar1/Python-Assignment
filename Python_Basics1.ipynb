{
 "cells": [
  {
   "cell_type": "markdown",
   "metadata": {},
   "source": [
    "# <p style='text-align:center;'> Python basics  </p>"
   ]
  },
  {
   "cell_type": "markdown",
   "metadata": {
    "id": "MtYoDRAKM0_N"
   },
   "source": [
    "Python is emerging as the popular language used more in data science applications.\n",
    "\n",
    "Take the case of the tech giant Google that has created the deep learning framework called tensorflow – Python is the primary language used for creating this framework. Its footprint has continued to increase in the environment promoted by Netflix. Production engineers at Facebook and Khan Academy have for long been using it as a prominent language in their environment.\n",
    "\n",
    "Python became the most popular language in the data science world.\n",
    "So what are you waiting for? Lets start learning python basic as your first assignment.\n",
    "\n",
    "\n",
    "Add-on Reference: https://youtu.be/HGOBQPFzWKo\n",
    "\n",
    "Add-on reference: https://youtu.be/8DvywoWv6fI\n",
    "\n"
   ]
  },
  {
   "cell_type": "markdown",
   "metadata": {},
   "source": [
    "# <p style='text-align:center;'> Zen of Python  </p>"
   ]
  },
  {
   "cell_type": "code",
   "execution_count": 1,
   "metadata": {},
   "outputs": [
    {
     "name": "stdout",
     "output_type": "stream",
     "text": [
      "The Zen of Python, by Tim Peters\n",
      "\n",
      "Beautiful is better than ugly.\n",
      "Explicit is better than implicit.\n",
      "Simple is better than complex.\n",
      "Complex is better than complicated.\n",
      "Flat is better than nested.\n",
      "Sparse is better than dense.\n",
      "Readability counts.\n",
      "Special cases aren't special enough to break the rules.\n",
      "Although practicality beats purity.\n",
      "Errors should never pass silently.\n",
      "Unless explicitly silenced.\n",
      "In the face of ambiguity, refuse the temptation to guess.\n",
      "There should be one-- and preferably only one --obvious way to do it.\n",
      "Although that way may not be obvious at first unless you're Dutch.\n",
      "Now is better than never.\n",
      "Although never is often better than *right* now.\n",
      "If the implementation is hard to explain, it's a bad idea.\n",
      "If the implementation is easy to explain, it may be a good idea.\n",
      "Namespaces are one honking great idea -- let's do more of those!\n"
     ]
    }
   ],
   "source": [
    "import this"
   ]
  },
  {
   "cell_type": "markdown",
   "metadata": {},
   "source": [
    "## Variable Declartion"
   ]
  },
  {
   "cell_type": "code",
   "execution_count": null,
   "metadata": {
    "id": "-OTH2FM1M0_P"
   },
   "outputs": [],
   "source": [
    "# declare two variables, a = 5, b = 'city'\n",
    "a = 5\n",
    "b = 'city'\n"
   ]
  },
  {
   "cell_type": "code",
   "execution_count": null,
   "metadata": {
    "colab": {
     "base_uri": "https://localhost:8080/"
    },
    "id": "t-VrEBgEM0_Q",
    "outputId": "6a0597cb-a95d-4764-976d-e2a21ddafef4"
   },
   "outputs": [
    {
     "name": "stdout",
     "output_type": "stream",
     "text": [
      "<class 'int'>\n"
     ]
    }
   ],
   "source": [
    "# print type of a\n",
    "print(type(a))"
   ]
  },
  {
   "cell_type": "code",
   "execution_count": null,
   "metadata": {
    "colab": {
     "base_uri": "https://localhost:8080/"
    },
    "id": "qY_E95lkM0_S",
    "outputId": "cafd3a23-899b-4c7d-8d2e-bd8ca4f41c19"
   },
   "outputs": [
    {
     "name": "stdout",
     "output_type": "stream",
     "text": [
      "<class 'str'>\n"
     ]
    }
   ],
   "source": [
    "# print type of b\n",
    "print(type(b))"
   ]
  },
  {
   "cell_type": "code",
   "execution_count": null,
   "metadata": {
    "id": "33uOTSI4M0_T"
   },
   "outputs": [],
   "source": [
    "# swap the values of a and b\n",
    "a,b = b,a"
   ]
  },
  {
   "cell_type": "code",
   "execution_count": null,
   "metadata": {
    "colab": {
     "base_uri": "https://localhost:8080/"
    },
    "id": "7SL_4efEM0_U",
    "outputId": "e520ce38-cdfa-4ad8-9510-a3c5a1c823f2"
   },
   "outputs": [
    {
     "name": "stdout",
     "output_type": "stream",
     "text": [
      "city\n",
      "5\n"
     ]
    }
   ],
   "source": [
    "# run this to confirm \n",
    "print(a)\n",
    "print(b)"
   ]
  },
  {
   "cell_type": "markdown",
   "metadata": {
    "id": "3hpgVEwuM0_V"
   },
   "source": [
    "Cool! so variable declaration and getting it's type was easy."
   ]
  },
  {
   "cell_type": "markdown",
   "metadata": {
    "id": "zhsTyVE0M0_W"
   },
   "source": [
    "## Arithmetic Operations"
   ]
  },
  {
   "cell_type": "code",
   "execution_count": null,
   "metadata": {
    "colab": {
     "base_uri": "https://localhost:8080/"
    },
    "id": "hnCQAmG9M0_X",
    "outputId": "78851a0a-1dc4-4478-ea51-c4eee84ef2bf"
   },
   "outputs": [
    {
     "name": "stdout",
     "output_type": "stream",
     "text": [
      "a = 24, b = 3\n"
     ]
    }
   ],
   "source": [
    "# declare two variables, a = 24, b = 3\n",
    "\n",
    "a =24\n",
    "b = 3\n",
    "print('a = {}, b = {}'.format(a,b))"
   ]
  },
  {
   "cell_type": "code",
   "execution_count": null,
   "metadata": {
    "colab": {
     "base_uri": "https://localhost:8080/"
    },
    "id": "V2g3WAQGM0_Y",
    "outputId": "172d89ef-cbdc-4088-ae06-9886fa08163f"
   },
   "outputs": [
    {
     "name": "stdout",
     "output_type": "stream",
     "text": [
      "a + b = 27\n",
      "a - b = 21\n",
      "a * b = 72\n",
      "a / b = 8.0\n",
      "a % b = 0\n",
      "a // b = 8\n",
      "a ^ b = 13824\n"
     ]
    }
   ],
   "source": [
    "print('a + b =', a+b)\n",
    "print('a - b =', a-b)\n",
    "print('a * b =', a*b)\n",
    "print('a / b =', a/b)\n",
    "print('a % b =', a%b)\n",
    "print('a // b =', a//b)\n",
    "print('a ^ b =', a**b)"
   ]
  },
  {
   "cell_type": "markdown",
   "metadata": {
    "id": "SpDjmqxGM0_Z"
   },
   "source": [
    "## Math Functions"
   ]
  },
  {
   "cell_type": "markdown",
   "metadata": {
    "id": "bCdSjAe-M0_a"
   },
   "source": [
    "Lets do some simple mathematical operations by using math module. Math module contains various mathematical functions. So here we go!\n",
    "\n",
    "Reference:- https://youtu.be/gktjNyV0xks\n",
    "\n",
    "Reference document: https://docs.python.org/3/library/math.html\n",
    "\n",
    "\n",
    "\n"
   ]
  },
  {
   "cell_type": "code",
   "execution_count": null,
   "metadata": {
    "id": "4leJIrwtM0_b"
   },
   "outputs": [],
   "source": [
    "#import math\n",
    "import math"
   ]
  },
  {
   "cell_type": "code",
   "execution_count": null,
   "metadata": {
    "id": "ZKQiPDggM0_b"
   },
   "outputs": [],
   "source": [
    "# declare a variable x = 2 and y=5.32167\n",
    "x = 2\n",
    "y=5.32167"
   ]
  },
  {
   "cell_type": "code",
   "execution_count": null,
   "metadata": {
    "colab": {
     "base_uri": "https://localhost:8080/"
    },
    "id": "Sr3KEyG6M0_c",
    "outputId": "785bf2c2-8510-45a2-c6fc-b8d20e067df7"
   },
   "outputs": [
    {
     "name": "stdout",
     "output_type": "stream",
     "text": [
      "5.32167\n"
     ]
    }
   ],
   "source": [
    "# Print the maximum value between x and y\n",
    "print(max(x,y))"
   ]
  },
  {
   "cell_type": "code",
   "execution_count": null,
   "metadata": {
    "colab": {
     "base_uri": "https://localhost:8080/"
    },
    "id": "LCmoiPSiM0_c",
    "outputId": "d81da385-d2c7-4f79-f3af-da3835649ac9"
   },
   "outputs": [
    {
     "name": "stdout",
     "output_type": "stream",
     "text": [
      "2\n"
     ]
    }
   ],
   "source": [
    "# Print the minimum value between x and y\n",
    "print(min(x,y))"
   ]
  },
  {
   "cell_type": "code",
   "execution_count": null,
   "metadata": {
    "colab": {
     "base_uri": "https://localhost:8080/"
    },
    "id": "A6kG2FZBM0_d",
    "outputId": "fc84a66c-3504-40da-c290-4f5eabf66a62"
   },
   "outputs": [
    {
     "name": "stdout",
     "output_type": "stream",
     "text": [
      "4\n",
      "8\n"
     ]
    }
   ],
   "source": [
    "# Print square and cube of x and store in a and b variable\n",
    "a = pow(x,2)\n",
    "b = pow(x,3)\n",
    "print(a)\n",
    "print(b)"
   ]
  },
  {
   "cell_type": "code",
   "execution_count": null,
   "metadata": {
    "colab": {
     "base_uri": "https://localhost:8080/"
    },
    "id": "h7RyE0EUM0_e",
    "outputId": "52e0ea54-7422-49f1-e353-6bd2935992ee"
   },
   "outputs": [
    {
     "name": "stdout",
     "output_type": "stream",
     "text": [
      "0.6931471805599453\n"
     ]
    }
   ],
   "source": [
    "#print log of x and store it in variable c\n",
    "c = math.log(x)\n",
    "print(c)"
   ]
  },
  {
   "cell_type": "code",
   "execution_count": null,
   "metadata": {
    "colab": {
     "base_uri": "https://localhost:8080/"
    },
    "id": "ALB-EXC7M0_e",
    "outputId": "62d24128-686a-4c7d-d47c-cf65121387f5"
   },
   "outputs": [
    {
     "name": "stdout",
     "output_type": "stream",
     "text": [
      "0.6931471805599453\n"
     ]
    }
   ],
   "source": [
    "#print minimum value between x,y,a, b and c\n",
    "print(min(x,y,a,b,c))"
   ]
  },
  {
   "cell_type": "code",
   "execution_count": null,
   "metadata": {
    "colab": {
     "base_uri": "https://localhost:8080/"
    },
    "id": "V5Z5wavUM0_f",
    "outputId": "11a5339a-d9aa-458d-be9a-aad06823e980"
   },
   "outputs": [
    {
     "name": "stdout",
     "output_type": "stream",
     "text": [
      "8\n"
     ]
    }
   ],
   "source": [
    "#print maximum value between x,y,a, b and c\n",
    "print(max(x,y,a,b,c))"
   ]
  },
  {
   "cell_type": "code",
   "execution_count": null,
   "metadata": {
    "colab": {
     "base_uri": "https://localhost:8080/"
    },
    "id": "UrHgSXDLM0_f",
    "outputId": "e28ee0ad-83ff-4cbc-828f-5a1da573d718"
   },
   "outputs": [
    {
     "name": "stdout",
     "output_type": "stream",
     "text": [
      "0\n"
     ]
    }
   ],
   "source": [
    "#print the largest integer that is smaller than or equal to c. ie.round down\n",
    "print(math.floor(c))"
   ]
  },
  {
   "cell_type": "code",
   "execution_count": null,
   "metadata": {
    "colab": {
     "base_uri": "https://localhost:8080/"
    },
    "id": "kmNugezeM0_g",
    "outputId": "28087128-b511-4613-8a2e-72d3323de92c"
   },
   "outputs": [
    {
     "name": "stdout",
     "output_type": "stream",
     "text": [
      "1\n"
     ]
    }
   ],
   "source": [
    "#print the smallest integer that is greater than or equal to c ie. round up\n",
    "print(math.ceil(c))"
   ]
  },
  {
   "cell_type": "markdown",
   "metadata": {
    "id": "d-5Ak6PsM0_h"
   },
   "source": [
    "## Logical operations\n",
    "\n",
    "You must be aware of some logical operations you did in college, like 'and', 'or', 'not' etc. These operations becomes even more easy to implement when you have friend like python.\n",
    "\n",
    "Reference:- https://youtu.be/9w992l9TFIs\n",
    "\n"
   ]
  },
  {
   "cell_type": "code",
   "execution_count": null,
   "metadata": {
    "colab": {
     "base_uri": "https://localhost:8080/"
    },
    "id": "Z3BrSKZqM0_h",
    "outputId": "221f7b51-5e6e-415f-f8aa-e7dd1694a81b"
   },
   "outputs": [
    {
     "name": "stdout",
     "output_type": "stream",
     "text": [
      "True\n",
      "False\n"
     ]
    }
   ],
   "source": [
    "# declare two variables, a = True, b = False\n",
    "a = True\n",
    "b = False\n",
    "print(a)\n",
    "print(b)"
   ]
  },
  {
   "cell_type": "code",
   "execution_count": null,
   "metadata": {
    "colab": {
     "base_uri": "https://localhost:8080/"
    },
    "id": "oDM-LMQcM0_i",
    "outputId": "81019f51-3558-4d8a-b012-72e406d301c2"
   },
   "outputs": [
    {
     "name": "stdout",
     "output_type": "stream",
     "text": [
      "<class 'bool'>\n",
      "<class 'bool'>\n"
     ]
    }
   ],
   "source": [
    "# print type of a and type of b\n",
    "print(type(a))\n",
    "print(type(b))"
   ]
  },
  {
   "cell_type": "markdown",
   "metadata": {
    "id": "WyH-u4q2M0_i"
   },
   "source": [
    "A fun fact for you !\n",
    "The Python Boolean type is one of Python's built-in data types. It's used to represent the truth value of an expression"
   ]
  },
  {
   "cell_type": "code",
   "execution_count": null,
   "metadata": {
    "colab": {
     "base_uri": "https://localhost:8080/"
    },
    "id": "bsQP2ElZM0_j",
    "outputId": "c58c79ef-146b-4f0f-f4e8-7b84547b4450"
   },
   "outputs": [
    {
     "name": "stdout",
     "output_type": "stream",
     "text": [
      "int of a is 1\n",
      "int of b is 0\n"
     ]
    }
   ],
   "source": [
    "# print int(a) and int(b)\n",
    "print('int of a is', int(a))\n",
    "print('int of b is', int(b))"
   ]
  },
  {
   "cell_type": "markdown",
   "metadata": {
    "id": "xCKyXJxzM0_j"
   },
   "source": [
    "We are sure you must have seen that, values for 'True' is 1 and for 'False' is 0."
   ]
  },
  {
   "cell_type": "code",
   "execution_count": null,
   "metadata": {
    "colab": {
     "base_uri": "https://localhost:8080/"
    },
    "id": "uHiDWCqiM0_k",
    "outputId": "f0b0f307-5f74-4835-c032-50bd8354c0a6"
   },
   "outputs": [
    {
     "name": "stdout",
     "output_type": "stream",
     "text": [
      "not a =  False\n",
      "not b =  True\n",
      "a and b =  False\n",
      "a or b =  True\n",
      "a and not b =  True\n"
     ]
    }
   ],
   "source": [
    "# Find and print the values of not a, not b, a and b, a or b, a and not b\n",
    "a = True\n",
    "b = False\n",
    "print(\"not a = \", not a)\n",
    "print(\"not b = \", not b)\n",
    "print(\"a and b = \", a and b)\n",
    "print(\"a or b = \", a or b)\n",
    "print(\"a and not b = \", a and not b)"
   ]
  },
  {
   "cell_type": "markdown",
   "metadata": {
    "id": "JBbWuUyEM0_k"
   },
   "source": [
    "We hope you tried to undertand the above output! "
   ]
  },
  {
   "cell_type": "markdown",
   "metadata": {
    "id": "4DM29cuEM0_k"
   },
   "source": [
    "## List Comprehensions\n",
    "\n",
    "Hey buddy! Python has really amazing thing called list comprehension. List comprehension offers a shorter syntax when you want to create a new list based on the values of an existing list. Cool right? Let's dive into this more by doing it. \n",
    "\n",
    "Reference:- https://youtu.be/17gTGqHG5xQ\n",
    "\n",
    "\n",
    "\n"
   ]
  },
  {
   "cell_type": "code",
   "execution_count": null,
   "metadata": {
    "colab": {
     "base_uri": "https://localhost:8080/"
    },
    "id": "kCVb30xmM0_l",
    "outputId": "e06f42c5-c324-40fd-a426-a1541907560b"
   },
   "outputs": [
    {
     "data": {
      "text/plain": [
       "[1, 2, 3, 4, 5, 6, 7, 8, 9, 10, 11, 12, 13, 14, 15, 16, 17, 18, 19, 20]"
      ]
     },
     "execution_count": 8,
     "metadata": {
      "tags": []
     },
     "output_type": "execute_result"
    }
   ],
   "source": [
    "# Using list comprehension, create a list containing numbers from 1 to 20. \n",
    "# Hint: You can use range function of python to do this.\n",
    "[x for x in range(1,21)]"
   ]
  },
  {
   "cell_type": "code",
   "execution_count": null,
   "metadata": {
    "colab": {
     "base_uri": "https://localhost:8080/"
    },
    "id": "6nZc52j1M0_l",
    "outputId": "caff9217-e112-4888-83c5-176c9ce5e3e2"
   },
   "outputs": [
    {
     "data": {
      "text/plain": [
       "[2, 4, 6, 8, 10, 12, 14, 16, 18, 20]"
      ]
     },
     "execution_count": 9,
     "metadata": {
      "tags": []
     },
     "output_type": "execute_result"
    }
   ],
   "source": [
    "# Using list comprehension, create a list containing numbers from 1 to 20 that are even\n",
    "[x for x in range(1,21)if x%2==0]\n"
   ]
  },
  {
   "cell_type": "markdown",
   "metadata": {
    "id": "ZrHud7_VM0_m"
   },
   "source": [
    "Create a list of all the fruits you like. Using list comprehension, create another list which contains the total number of charachters for each corresponding fruits.\n",
    "- Eg. fruits = [‘apple’,’kiwi’,’orange’], then output would be - [5,4,6]\n"
   ]
  },
  {
   "cell_type": "code",
   "execution_count": 37,
   "metadata": {
    "colab": {
     "base_uri": "https://localhost:8080/"
    },
    "id": "9RW0KL7EM0_m",
    "outputId": "3dce3c40-935c-4a74-fa2d-5569654ab751"
   },
   "outputs": [
    {
     "name": "stdout",
     "output_type": "stream",
     "text": [
      "['mango', 'pineapple', 'grapes', 'litchi']\n",
      "[5, 9, 6, 6]\n"
     ]
    }
   ],
   "source": [
    "fruits = ['mango', 'pineapple', 'grapes', 'litchi']\n",
    "len_fruits =  [len(fruits[0]),len(fruits[1]),len(fruits[2]),len(fruits[3])]\n",
    "\n",
    "print(fruits)\n",
    "print(len_fruits)"
   ]
  },
  {
   "cell_type": "markdown",
   "metadata": {
    "id": "YlVHn3bRM0_n"
   },
   "source": [
    "The above output is shown if fruits = ['apple','kiwi,'orange'], it can vary for different values of fruits\n",
    "\n",
    "Amazing right?\n"
   ]
  },
  {
   "cell_type": "markdown",
   "metadata": {
    "id": "07tQjM3ZM0_p"
   },
   "source": [
    "## String value and operators\n",
    "\n",
    "\n"
   ]
  },
  {
   "cell_type": "markdown",
   "metadata": {
    "id": "HQ7OLYwTM0_q"
   },
   "source": [
    "### Characters in strings\n",
    "\n",
    "\n",
    "Reference:- https://www.programiz.com/python-programming/string\n",
    "\n",
    "Reference:-  https://youtu.be/LnQDWIMaJlA\n"
   ]
  },
  {
   "cell_type": "code",
   "execution_count": 38,
   "metadata": {
    "colab": {
     "base_uri": "https://localhost:8080/"
    },
    "id": "cK5rPEHNM0_r",
    "outputId": "96bd50b1-0f27-45dd-d37d-d47f3ede4b84"
   },
   "outputs": [
    {
     "name": "stdout",
     "output_type": "stream",
     "text": [
      "cat\n",
      "dog\n"
     ]
    }
   ],
   "source": [
    "# declare the variables x = cat and y = dog and print it\n",
    "x =  'cat'\n",
    "y = 'dog'\n",
    "\n",
    "print(x)\n",
    "print(y)"
   ]
  },
  {
   "cell_type": "code",
   "execution_count": 40,
   "metadata": {
    "colab": {
     "base_uri": "https://localhost:8080/"
    },
    "id": "xzeyJ2GdM0_s",
    "outputId": "ef0d5e7c-fed9-4cb8-f7f9-5f20bdc88df9"
   },
   "outputs": [
    {
     "name": "stdout",
     "output_type": "stream",
     "text": [
      "First ch of x = c\n",
      "First ch of y = d\n"
     ]
    }
   ],
   "source": [
    "#Print first character of both x and y. \n",
    "print(\"First ch of x =\",x[0])\n",
    "print(\"First ch of y =\",y[0])"
   ]
  },
  {
   "cell_type": "code",
   "execution_count": 41,
   "metadata": {
    "colab": {
     "base_uri": "https://localhost:8080/"
    },
    "id": "28wQwva_M0_t",
    "outputId": "605c4dbc-7679-409e-bba3-2e023571b55a"
   },
   "outputs": [
    {
     "name": "stdout",
     "output_type": "stream",
     "text": [
      "Last ch of x = t\n",
      "Last ch of y = g\n"
     ]
    }
   ],
   "source": [
    "#Print last character of both x and y.\n",
    "print(\"Last ch of x =\",x[-1])\n",
    "print(\"Last ch of y =\",y[-1])"
   ]
  },
  {
   "cell_type": "code",
   "execution_count": 42,
   "metadata": {
    "colab": {
     "base_uri": "https://localhost:8080/"
    },
    "id": "urrNK7y5M0_t",
    "outputId": "7c9bd7a3-f1fb-4839-c564-9a9ecde4ac57"
   },
   "outputs": [
    {
     "name": "stdout",
     "output_type": "stream",
     "text": [
      "Length of x = 3\n",
      "Length of y = 3\n"
     ]
    }
   ],
   "source": [
    "#Print len of both x and y\n",
    "print(\"Length of x =\",len(x))\n",
    "print(\"Length of y =\",len(y))"
   ]
  },
  {
   "cell_type": "code",
   "execution_count": 43,
   "metadata": {
    "colab": {
     "base_uri": "https://localhost:8080/"
    },
    "id": "LTxNlEhtM0_u",
    "outputId": "1e29231a-830b-4e8d-aec5-a998a5c7dddc"
   },
   "outputs": [
    {
     "name": "stdout",
     "output_type": "stream",
     "text": [
      "catdog\n"
     ]
    }
   ],
   "source": [
    "#concatenate both x and y and store it in variable z and print z\n",
    "z = x + y\n",
    "print(z)"
   ]
  },
  {
   "cell_type": "code",
   "execution_count": 45,
   "metadata": {
    "colab": {
     "base_uri": "https://localhost:8080/"
    },
    "id": "wrGvOFg1M0_u",
    "outputId": "072a4a35-2b23-49f8-9c2e-e139899c50fa"
   },
   "outputs": [
    {
     "name": "stdout",
     "output_type": "stream",
     "text": [
      "True\n"
     ]
    }
   ],
   "source": [
    "#check if x is part of z \n",
    "print(x in z)"
   ]
  },
  {
   "cell_type": "markdown",
   "metadata": {
    "id": "uRqpaDVkM0_v"
   },
   "source": [
    "### String slicing\n",
    "\n",
    "\n",
    "\n",
    "Hey coder, do you know? Python slicing is about obtaining a sub-string from the given string by slicing it respectively from start to end\n",
    "\n",
    "So be ready to implement it today!\n"
   ]
  },
  {
   "cell_type": "code",
   "execution_count": 46,
   "metadata": {
    "colab": {
     "base_uri": "https://localhost:8080/"
    },
    "id": "vXJ8v6PXM0_v",
    "outputId": "adfd2dcc-8498-4a91-e280-d06a9d547a33"
   },
   "outputs": [
    {
     "name": "stdout",
     "output_type": "stream",
     "text": [
      "pineapple\n"
     ]
    }
   ],
   "source": [
    "#Create variable a = “pineapple”\n",
    "a = 'pineapple'\n",
    "print(a)"
   ]
  },
  {
   "cell_type": "code",
   "execution_count": 67,
   "metadata": {
    "colab": {
     "base_uri": "https://localhost:8080/"
    },
    "id": "C-dvwACjM0_w",
    "outputId": "87cf8a1b-cca8-40c3-e8cd-8e7b7186b1ee"
   },
   "outputs": [
    {
     "name": "stdout",
     "output_type": "stream",
     "text": [
      "pine\n",
      "apple\n"
     ]
    }
   ],
   "source": [
    "# Using index slicing, print the words ‘pine’ and “apple”.\n",
    "# HINT - a[:]\n",
    "print(a[0:4]); print(a[4:9])"
   ]
  },
  {
   "cell_type": "code",
   "execution_count": 69,
   "metadata": {
    "colab": {
     "base_uri": "https://localhost:8080/",
     "height": 35
    },
    "id": "JEJ1f0ITM0_w",
    "outputId": "b25645f7-db7e-4f3a-e1e6-c6a73700ef77"
   },
   "outputs": [
    {
     "data": {
      "application/vnd.google.colaboratory.intrinsic+json": {
       "type": "string"
      },
      "text/plain": [
       "'PINEAPPLE'"
      ]
     },
     "execution_count": 69,
     "metadata": {
      "tags": []
     },
     "output_type": "execute_result"
    }
   ],
   "source": [
    "#Convert a into upper case\n",
    "a.upper()"
   ]
  },
  {
   "cell_type": "markdown",
   "metadata": {
    "id": "oqqCZhOyM0_x"
   },
   "source": [
    "## Dealing with Sentences\n",
    "\n",
    "\n"
   ]
  },
  {
   "cell_type": "code",
   "execution_count": 71,
   "metadata": {
    "colab": {
     "base_uri": "https://localhost:8080/"
    },
    "id": "U_qnJez8M0_y",
    "outputId": "ee220c4d-79ce-48a1-978d-014bf28df849"
   },
   "outputs": [
    {
     "name": "stdout",
     "output_type": "stream",
     "text": [
      "I am flying to London\n"
     ]
    }
   ],
   "source": [
    "# Declare a sentence of ‘I am flying to London’ and print it\n",
    "sentence = \"I am flying to London\"\n",
    "print(sentence)"
   ]
  },
  {
   "cell_type": "code",
   "execution_count": 77,
   "metadata": {
    "colab": {
     "base_uri": "https://localhost:8080/"
    },
    "id": "a8oLB4OFM0_y",
    "outputId": "d0e56995-ba0f-4fc8-bd78-55ee049e69c7"
   },
   "outputs": [
    {
     "name": "stdout",
     "output_type": "stream",
     "text": [
      "length of the sentence is 21\n"
     ]
    }
   ],
   "source": [
    "#Print length of the sentence\n",
    "print(\"length of the sentence is\",len(sentence))"
   ]
  },
  {
   "cell_type": "code",
   "execution_count": 85,
   "metadata": {
    "colab": {
     "base_uri": "https://localhost:8080/"
    },
    "id": "oZO0N4okM0_z",
    "outputId": "0d60562d-cb09-413e-9dfb-bd1cedc3a95a"
   },
   "outputs": [
    {
     "name": "stdout",
     "output_type": "stream",
     "text": [
      "London\n"
     ]
    }
   ],
   "source": [
    "#Using list indexing, to print the word London\n",
    "print(sentence[-6:21])"
   ]
  },
  {
   "cell_type": "code",
   "execution_count": 87,
   "metadata": {
    "colab": {
     "base_uri": "https://localhost:8080/"
    },
    "id": "-mqadYk2M0_z",
    "outputId": "453871a4-57fc-4793-856d-d63da9d412a5"
   },
   "outputs": [
    {
     "data": {
      "text/plain": [
       "['I', 'am', 'flying', 'to', 'London']"
      ]
     },
     "execution_count": 87,
     "metadata": {
      "tags": []
     },
     "output_type": "execute_result"
    }
   ],
   "source": [
    "# Use .split to get list of individual words in the sentence\n",
    "sentence.split()"
   ]
  },
  {
   "cell_type": "code",
   "execution_count": 90,
   "metadata": {
    "colab": {
     "base_uri": "https://localhost:8080/",
     "height": 35
    },
    "id": "WhmgEVPxM0_0",
    "outputId": "394aefe0-88f7-4f74-99f8-c2eca492176b"
   },
   "outputs": [
    {
     "data": {
      "application/vnd.google.colaboratory.intrinsic+json": {
       "type": "string"
      },
      "text/plain": [
       "'i am flying to london'"
      ]
     },
     "execution_count": 90,
     "metadata": {
      "tags": []
     },
     "output_type": "execute_result"
    }
   ],
   "source": [
    "# Convert sentence in lower case \n",
    "sentence.lower()"
   ]
  },
  {
   "cell_type": "code",
   "execution_count": 92,
   "metadata": {
    "colab": {
     "base_uri": "https://localhost:8080/",
     "height": 35
    },
    "id": "rAW0J75dM0_0",
    "outputId": "c62be6f3-6024-423a-f24e-3da0689d55b5"
   },
   "outputs": [
    {
     "data": {
      "application/vnd.google.colaboratory.intrinsic+json": {
       "type": "string"
      },
      "text/plain": [
       "'I AM FLYING TO LONDON'"
      ]
     },
     "execution_count": 92,
     "metadata": {
      "tags": []
     },
     "output_type": "execute_result"
    }
   ],
   "source": [
    "# Convert sentence in upper case .\n",
    "sentence.upper()"
   ]
  },
  {
   "cell_type": "markdown",
   "metadata": {
    "id": "XeYTyyW9M0_1"
   },
   "source": [
    "Great job! Slicing is fun."
   ]
  },
  {
   "cell_type": "markdown",
   "metadata": {
    "id": "8lmOElJEM0_1"
   },
   "source": [
    "## Functions\n",
    "\n",
    "Declare a function named square, which takes an input as x, and returns the square of x.\n",
    "\n",
    "Reference:- https://youtu.be/Rpq9MC67M08\n",
    "\n",
    "\n"
   ]
  },
  {
   "cell_type": "code",
   "execution_count": 96,
   "metadata": {
    "id": "-p8yw-TTM0_1"
   },
   "outputs": [],
   "source": [
    "def square(x):\n",
    "    return x*x"
   ]
  },
  {
   "cell_type": "markdown",
   "metadata": {
    "id": "mfb8JMQRM0_2"
   },
   "source": [
    "Call the function to find the value of square of 9."
   ]
  },
  {
   "cell_type": "code",
   "execution_count": 99,
   "metadata": {
    "colab": {
     "base_uri": "https://localhost:8080/"
    },
    "id": "BM6KlLlVM0_2",
    "outputId": "7bc431ea-d572-4631-fa9d-cffa8d5b276f"
   },
   "outputs": [
    {
     "name": "stdout",
     "output_type": "stream",
     "text": [
      "square of 9 is 81\n"
     ]
    }
   ],
   "source": [
    "# find the square of 9 using the function square you have just created.\n",
    "print(\"square of 9 is\",square(9))"
   ]
  },
  {
   "cell_type": "markdown",
   "metadata": {
    "id": "WV-keVi5M0_3"
   },
   "source": [
    "Wohoo! see, defining function was simple"
   ]
  },
  {
   "cell_type": "markdown",
   "metadata": {
    "id": "lllufeYpM0_3"
   },
   "source": [
    "#### Define another function which checks whether a given is number is odd or even for a given input and it should print whether the  number is odd or even as an output\n",
    "<p style='text-align: right;'> 5 + 3 = 8 points </p>\n"
   ]
  },
  {
   "cell_type": "code",
   "execution_count": 117,
   "metadata": {
    "colab": {
     "base_uri": "https://localhost:8080/"
    },
    "id": "pzrymTPtM0_3",
    "outputId": "9575f1c4-a961-4a9b-dcca-ab45bf01cd82"
   },
   "outputs": [
    {
     "name": "stdout",
     "output_type": "stream",
     "text": [
      "please enter your number to check, given number is odd or even\n",
      "11\n",
      "11 is odd\n"
     ]
    }
   ],
   "source": [
    "print(\"please enter your number to check, given number is odd or even\")\n",
    "num=int(input())\n",
    "def CheckNum(num):\n",
    "    if num%2==0:\n",
    "      print(num, \"is even\")\n",
    "    else:\n",
    "      print(num, \"is odd\")\n",
    "\n",
    "CheckNum(num)"
   ]
  },
  {
   "cell_type": "markdown",
   "metadata": {
    "id": "rVGD5FKgM0_4"
   },
   "source": [
    "Hey smarty! lets use both the functions together to check whether the square of 3,6 and 21 are odd or even.\n"
   ]
  },
  {
   "cell_type": "code",
   "execution_count": 125,
   "metadata": {
    "colab": {
     "base_uri": "https://localhost:8080/"
    },
    "id": "DOpK_4WhM0_4",
    "outputId": "cdeca6a6-3645-40e3-b0bd-2d9a5708e9ec"
   },
   "outputs": [
    {
     "name": "stdout",
     "output_type": "stream",
     "text": [
      "9 is odd\n",
      "36 is even\n",
      "441 is odd\n"
     ]
    }
   ],
   "source": [
    " # your code here\n",
    "p= square(3)\n",
    "q= square(6)\n",
    "r=square(21)\n",
    "CheckNum(p)\n",
    "CheckNum(q)\n",
    "CheckNum(r)\n"
   ]
  },
  {
   "cell_type": "markdown",
   "metadata": {
    "id": "6BwCoyfkM0_4"
   },
   "source": [
    "hey hey! You did a great code. Did you see the benefit of using functions"
   ]
  },
  {
   "cell_type": "markdown",
   "metadata": {
    "id": "jpnE9GXQM0_5"
   },
   "source": [
    "# Loops and Iterations\n",
    "Reference:- https://youtu.be/6iF8Xb7Z3wQ"
   ]
  },
  {
   "cell_type": "markdown",
   "metadata": {
    "id": "ltpqpxxjM0_5"
   },
   "source": [
    "## If statement\n",
    "\n",
    "\n"
   ]
  },
  {
   "cell_type": "code",
   "execution_count": 131,
   "metadata": {
    "colab": {
     "base_uri": "https://localhost:8080/"
    },
    "id": "0f30iIpnM0_6",
    "outputId": "4eb8264b-b6be-482f-f061-d3cc9f8f9497"
   },
   "outputs": [
    {
     "name": "stdout",
     "output_type": "stream",
     "text": [
      "7\n"
     ]
    }
   ],
   "source": [
    "#Declare a variable x equal to a number of your choice.\n",
    "#your code here\n",
    "x =  7\n",
    "print(x)"
   ]
  },
  {
   "cell_type": "code",
   "execution_count": 132,
   "metadata": {
    "colab": {
     "base_uri": "https://localhost:8080/"
    },
    "id": "_fvs2jnEM0_6",
    "outputId": "fa4f39ed-a02d-4b96-a6fd-30ece8bfa9ab"
   },
   "outputs": [
    {
     "name": "stdout",
     "output_type": "stream",
     "text": [
      "7 is positive\n"
     ]
    }
   ],
   "source": [
    "#Using an if statement, print whether x is zero, positive or negative.\n",
    "if x==0:\n",
    "  print(x,\"is zero\")\n",
    "if x>0:\n",
    "  print(x, \"is positive\")\n",
    "if x<0:\n",
    "  print(x, \"is negative\")"
   ]
  },
  {
   "cell_type": "code",
   "execution_count": 242,
   "metadata": {
    "colab": {
     "base_uri": "https://localhost:8080/"
    },
    "id": "djFw_j_dM0_7",
    "outputId": "b3d40c6c-7770-40c6-a3cb-5b1bc73b6cf3"
   },
   "outputs": [
    {
     "name": "stdout",
     "output_type": "stream",
     "text": [
      "please enter your number to check, given number is positive, negetive or zero:\n",
      "-9\n",
      "-9 is negative\n"
     ]
    }
   ],
   "source": [
    "# Now Define a function, which takes input from the user and prints whether the given input is zero,positive or negative.\n",
    "\n",
    "print(\"please enter your number to check, given number is positive, negetive or zero:\")\n",
    "t=int(input())\n",
    "def NumCheck(t):\n",
    "  if t==0:\n",
    "    print(t,\"is zero\")\n",
    "  if t>0:\n",
    "    print(t, \"is positive\")\n",
    "  if t<0:\n",
    "    print(t, \"is negative\")\n",
    "NumCheck(t)"
   ]
  },
  {
   "cell_type": "code",
   "execution_count": 245,
   "metadata": {
    "colab": {
     "base_uri": "https://localhost:8080/"
    },
    "id": "SeBxJYGTcjbm",
    "outputId": "6d8a8fbc-0d2e-4e92-dace-86110b5f62e4"
   },
   "outputs": [
    {
     "name": "stdout",
     "output_type": "stream",
     "text": [
      "10 is positive\n"
     ]
    }
   ],
   "source": [
    "NumCheck(10)"
   ]
  },
  {
   "cell_type": "markdown",
   "metadata": {
    "id": "8TR2EsLnM0_8"
   },
   "source": [
    "## For loop"
   ]
  },
  {
   "cell_type": "markdown",
   "metadata": {
    "id": "HZJipDzSM0_8"
   },
   "source": [
    "\n"
   ]
  },
  {
   "cell_type": "code",
   "execution_count": 161,
   "metadata": {
    "colab": {
     "base_uri": "https://localhost:8080/"
    },
    "id": "l9ii2cK-M0_8",
    "outputId": "6000f830-7a5b-4918-a738-7fd32ebb32c9"
   },
   "outputs": [
    {
     "name": "stdout",
     "output_type": "stream",
     "text": [
      "['India', 'Israel', 'Canada']\n"
     ]
    }
   ],
   "source": [
    "#Create a list x, such that it contains the elements - ‘India’, ‘Israel’,’Canada’.\n",
    "country = ['India', 'Israel', 'Canada']\n",
    "print(country)"
   ]
  },
  {
   "cell_type": "code",
   "execution_count": 170,
   "metadata": {
    "colab": {
     "base_uri": "https://localhost:8080/"
    },
    "id": "WTQznTeRM0_9",
    "outputId": "8f353c61-2a40-4df3-fa06-d3e0358a895b"
   },
   "outputs": [
    {
     "name": "stdout",
     "output_type": "stream",
     "text": [
      "India\n",
      "Israel\n",
      "Canada\n"
     ]
    }
   ],
   "source": [
    "#Using For loop, iterate over the list and print the elements.\n",
    "#[print(i) for i in country]\n",
    "for i in country:\n",
    "  print(i)\n"
   ]
  },
  {
   "cell_type": "code",
   "execution_count": 188,
   "metadata": {
    "colab": {
     "base_uri": "https://localhost:8080/"
    },
    "id": "F8b8-QWQM0_-",
    "outputId": "992dfec3-6b74-4f49-a236-b1ede95b6131"
   },
   "outputs": [
    {
     "name": "stdout",
     "output_type": "stream",
     "text": [
      "2 * 2 = 4\n",
      "2 * 3 = 6\n",
      "2 * 4 = 8\n",
      "2 * 5 = 10\n",
      "2 * 6 = 12\n",
      "2 * 7 = 14\n",
      "2 * 8 = 16\n",
      "2 * 9 = 18\n",
      "2 * 10 = 20\n"
     ]
    }
   ],
   "source": [
    "# Using For loop, print the table of 2.\n",
    "for i in range(2,11) :\n",
    "  print((2), '*', i, \"=\",2*i)"
   ]
  },
  {
   "cell_type": "markdown",
   "metadata": {
    "id": "ofZ81ACxM0_-"
   },
   "source": [
    "For a given list, x = [21, ‘hello,’cream’, 20,19,’village’], using for loop to iterate over the items and using - if statement print the items that are of type int"
   ]
  },
  {
   "cell_type": "code",
   "execution_count": 272,
   "metadata": {
    "colab": {
     "base_uri": "https://localhost:8080/"
    },
    "id": "Z1HFcQ1vM0__",
    "outputId": "bd684794-f4c5-4580-fb8d-3b02f76bc6f6"
   },
   "outputs": [
    {
     "name": "stdout",
     "output_type": "stream",
     "text": [
      "21\n",
      "hello\n",
      "cream\n",
      "20\n",
      "19\n",
      "village\n"
     ]
    }
   ],
   "source": [
    "#code here\n",
    "x= [21, 'hello','cream', 20,19,'village']\n",
    "for i in x:\n",
    "    print(i)\n",
    "    "
   ]
  },
  {
   "cell_type": "markdown",
   "metadata": {
    "id": "f_U1rQxcM0__"
   },
   "source": [
    "Using For loop, lets create a pattern. "
   ]
  },
  {
   "cell_type": "markdown",
   "metadata": {
    "id": "XR2NGX_OM0__"
   },
   "source": [
    "\n"
   ]
  },
  {
   "cell_type": "code",
   "execution_count": 276,
   "metadata": {
    "colab": {
     "base_uri": "https://localhost:8080/"
    },
    "id": "xwZfv3BCM1AA",
    "outputId": "70051598-59b1-4cb9-a048-3ca5f20e642f"
   },
   "outputs": [
    {
     "name": "stdout",
     "output_type": "stream",
     "text": [
      "\n",
      " *\n",
      " * *\n",
      " * * *\n",
      " * * * *\n",
      " * * * * *\n"
     ]
    }
   ],
   "source": [
    "# print the following pattern\n",
    "for x in range(6):\n",
    "    print(x * \" *\")"
   ]
  },
  {
   "cell_type": "markdown",
   "metadata": {
    "id": "Mv_pujZqM1AA"
   },
   "source": [
    "## While loop"
   ]
  },
  {
   "cell_type": "markdown",
   "metadata": {
    "id": "DA-PM2-aM1AB"
   },
   "source": [
    "- Using while loop make a function that prints all the values between 1 to n. "
   ]
  },
  {
   "cell_type": "markdown",
   "metadata": {
    "id": "UCJ63EHAM1AB"
   },
   "source": [
    "\n"
   ]
  },
  {
   "cell_type": "code",
   "execution_count": 249,
   "metadata": {
    "colab": {
     "base_uri": "https://localhost:8080/"
    },
    "id": "FluGLIsxM1AB",
    "outputId": "c855ff64-8fd9-4985-f72c-cf7925742658"
   },
   "outputs": [
    {
     "name": "stdout",
     "output_type": "stream",
     "text": [
      "Please Enter any Number: 6\n",
      "The List of Numbers from 1 to 6 are\n",
      "1\n",
      "2\n",
      "3\n",
      "4\n",
      "5\n",
      "6\n"
     ]
    }
   ],
   "source": [
    "n = int(input(\"Please Enter any Number: \"))\n",
    "def counter(n):\n",
    "  i=1\n",
    "  print(\"The List of Numbers from 1 to {0} are\".format(n))\n",
    "  while i <= n:\n",
    "    print(i)\n",
    "    i += 1\n",
    "counter(n)"
   ]
  },
  {
   "cell_type": "code",
   "execution_count": 250,
   "metadata": {
    "colab": {
     "base_uri": "https://localhost:8080/"
    },
    "id": "GP53uZFVM1AC",
    "outputId": "0705520f-f5e2-4a85-99ea-8f781d78d7c2"
   },
   "outputs": [
    {
     "name": "stdout",
     "output_type": "stream",
     "text": [
      "The List of Numbers from 1 to 10 are\n",
      "1\n",
      "2\n",
      "3\n",
      "4\n",
      "5\n",
      "6\n",
      "7\n",
      "8\n",
      "9\n",
      "10\n"
     ]
    }
   ],
   "source": [
    "counter(10)"
   ]
  },
  {
   "cell_type": "markdown",
   "metadata": {
    "id": "aTdS3SrrM1AC"
   },
   "source": [
    "### Write the code for the following, what is the output obtained?\n",
    "- Set a variable flag = True, num = 5\n",
    "- Run a while loop till flag = True\n",
    "- Inside the while loop - \n",
    "    - Increment the value of num by 5\n",
    "    - If value of num is greater then 50, set flag to be False"
   ]
  },
  {
   "cell_type": "code",
   "execution_count": 252,
   "metadata": {
    "colab": {
     "base_uri": "https://localhost:8080/"
    },
    "id": "YmOh_agPM1AD",
    "outputId": "d27ad0da-1865-4ebc-a053-809cbd10cf29"
   },
   "outputs": [
    {
     "name": "stdout",
     "output_type": "stream",
     "text": [
      "5\n",
      "10\n",
      "15\n",
      "20\n",
      "25\n",
      "30\n",
      "35\n",
      "40\n",
      "45\n",
      "50\n"
     ]
    }
   ],
   "source": [
    "# your code here\n",
    "num = 5\n",
    "while num <= 50:\n",
    "    print(num)\n",
    "    num = num + 5"
   ]
  },
  {
   "cell_type": "markdown",
   "metadata": {
    "id": "5jBSFzCfM1AD"
   },
   "source": [
    "----------------------------------------------------------------------"
   ]
  }
 ],
 "metadata": {
  "colab": {
   "collapsed_sections": [],
   "name": "Python Basics.ipynb",
   "provenance": []
  },
  "kernelspec": {
   "display_name": "Python 3",
   "language": "python",
   "name": "python3"
  },
  "language_info": {
   "codemirror_mode": {
    "name": "ipython",
    "version": 3
   },
   "file_extension": ".py",
   "mimetype": "text/x-python",
   "name": "python",
   "nbconvert_exporter": "python",
   "pygments_lexer": "ipython3",
   "version": "3.7.3"
  }
 },
 "nbformat": 4,
 "nbformat_minor": 1
}
