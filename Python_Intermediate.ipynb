{
  "nbformat": 4,
  "nbformat_minor": 0,
  "metadata": {
    "kernelspec": {
      "display_name": "Python 3",
      "language": "python",
      "name": "python3"
    },
    "language_info": {
      "codemirror_mode": {
        "name": "ipython",
        "version": 3
      },
      "file_extension": ".py",
      "mimetype": "text/x-python",
      "name": "python",
      "nbconvert_exporter": "python",
      "pygments_lexer": "ipython3",
      "version": "3.8.5"
    },
    "colab": {
      "name": "Python Intermediate.ipynb",
      "provenance": [],
      "collapsed_sections": [
        "j1n9FoARAtG-",
        "pBkF9mEVAtG_",
        "kWmVvxTxAtHA"
      ]
    }
  },
  "cells": [
    {
      "cell_type": "markdown",
      "metadata": {
        "id": "bfGnvZQ7AtGa"
      },
      "source": [
        "# <center><u> Python-Intermediate </u></center>\n"
      ]
    },
    {
      "cell_type": "markdown",
      "metadata": {
        "id": "XemXIWZfBEya"
      },
      "source": [
        ""
      ]
    },
    {
      "cell_type": "markdown",
      "metadata": {
        "id": "Hv4ecG0_AtGf"
      },
      "source": [
        "Here you can start digging into our intermediate-level programming questions that will teach you new Python concepts. This category is for intermediate Python developers who already know the basics of Python development and want to expand their knowledge.\n",
        "\n",
        "Below are some flowcharts on various python statements which will be useful to understand their use .\n",
        "\n",
        "\n",
        "**1. BREAK**\n",
        "![image-7.png](attachment:image-7.png)\n",
        "**2. CONTINUE**\n",
        "![image.png](attachment:image.png)\n",
        "**3. WHILE LOOP**\n",
        "![image-2.png](attachment:image-2.png)\n",
        "**4. FOR LOOP**\n",
        "![image-3.png](attachment:image-3.png)\n",
        "**5. IF STATEMENT**\n",
        "![image-4.png](attachment:image-4.png)\n",
        "**6. IF ELSE**\n",
        "![image-5.png](attachment:image-5.png)\n",
        "**7. IF ELSE IF ELSE**\n",
        "![image-6.png](attachment:image-6.png)\n",
        "\n",
        "\n",
        "\n",
        "Becoming a Python expert takes time, but over time you’ll master this beautiful programming language. It’s worth it! \n",
        "\n",
        "So lets get started!"
      ]
    },
    {
      "cell_type": "markdown",
      "metadata": {
        "id": "jITyX3rhAtGh"
      },
      "source": [
        "1.Lets remove duplicates from list names=['A','B','C','A','D','E','F','G','H','E','D']\n",
        "\n"
      ]
    },
    {
      "cell_type": "code",
      "metadata": {
        "colab": {
          "base_uri": "https://localhost:8080/"
        },
        "id": "hwxFZwlcAtGi",
        "outputId": "16630a93-f1ce-4dff-f82a-dbcd3f2b1cda"
      },
      "source": [
        "mylist = ['A','B','C','A','D','E','F','G','H','E','D']\n",
        "temp = []\n",
        "for x in mylist:\n",
        "  if x not in temp:\n",
        "      temp.append(x)\n",
        "mylist = temp\n",
        "print(temp)"
      ],
      "execution_count": null,
      "outputs": [
        {
          "output_type": "stream",
          "text": [
            "['A', 'B', 'C', 'D', 'E', 'F', 'G', 'H']\n"
          ],
          "name": "stdout"
        }
      ]
    },
    {
      "cell_type": "markdown",
      "metadata": {
        "id": "Lx_QQIbAAtGk"
      },
      "source": [
        "2. Good! Shall we try solving above problem in shhorter way using list comprehention? It will be amazing. Here we go!\n"
      ]
    },
    {
      "cell_type": "code",
      "metadata": {
        "colab": {
          "base_uri": "https://localhost:8080/"
        },
        "id": "xmqNiDEpAtGl",
        "outputId": "d94e066b-7610-4503-cb84-2126c86a4bd1"
      },
      "source": [
        "mylist1 = ['A','B','C','A','D','E','F','G','H','E','D']\n",
        "temp = []\n",
        "[temp.append(x) for x in mylist1 if x not in temp]\n",
        "print(temp)\n"
      ],
      "execution_count": null,
      "outputs": [
        {
          "output_type": "stream",
          "text": [
            "['A', 'B', 'C', 'D', 'E', 'F', 'G', 'H']\n"
          ],
          "name": "stdout"
        }
      ]
    },
    {
      "cell_type": "markdown",
      "metadata": {
        "id": "jNLxfqeMAtGm"
      },
      "source": [
        "3. define a funtion 'occurence' which takes 2 inputs, one list 'lst' and another one a number 'n' and count the number of occurrences of n in your list lst."
      ]
    },
    {
      "cell_type": "code",
      "metadata": {
        "colab": {
          "base_uri": "https://localhost:8080/"
        },
        "id": "iswVRRwHZFM0",
        "outputId": "5dc52991-ec77-4f47-b753-30f2ae95e8b5"
      },
      "source": [
        "#your code\n",
        "#lst = [] \n",
        "lst = [int(item1) for item1 in input(\"Enter the list items : \").split()]\n",
        "n = int(input(\"enter the number that you want to check the occurance of that number: \"))\n",
        "\n",
        "def occurance(lst, n):\n",
        "    count = 0\n",
        "    for item in lst:\n",
        "      if (item == n):\n",
        "        count = count + 1\n",
        "    return count \n",
        "print('{} has occurred {} times'.format(n, occurance(lst, n)))\n",
        "  \n",
        "\n",
        " \n",
        "#lets use your function\n",
        "#occurence([2,3,4,8,1,3,5,2,1,3,1,2,2], 2)"
      ],
      "execution_count": null,
      "outputs": [
        {
          "output_type": "stream",
          "text": [
            "Enter the list items : 2 3 2 3 2 3 24 5 34 5\n",
            "enter the number that you want to check the occurance of that number: 2\n",
            "2 has occurred 3 times\n"
          ],
          "name": "stdout"
        }
      ]
    },
    {
      "cell_type": "markdown",
      "metadata": {
        "id": "3Tj2RpomAtG7"
      },
      "source": [
        "Awsesome! Great job so far. Hope you fell in love with python now.\n",
        "\n",
        "\n",
        "But wait we want to give a treat..:) We have a surprise for you in form of one of the task, in this task you have to create a game in python. You can take up this task as a mini project of your's in python. Hmm.. Sounds good. Isn't it?\n",
        "\n",
        "So lets gets started.. we have given the instructions below for the task in detail \n",
        "\n",
        "# Hangman Game\n",
        "## In this project we are going to create Hangman Game using python\n",
        "\n",
        "\n",
        "**Q. What is the hangman game?**<br>\n",
        "A:- Hangman is a guessing game. The player will tries to guess a word picked by the computer, by suggesting letters within a certain number of guesses\n",
        "\n",
        "\n",
        "# Task 1\n",
        "Create a function **is_word_guessed** that takes in two arguments :- <br> **secret_word**, **letters_guessed** <br>**returns True** if all of the letter of secret_word are in letters_guessed, **returns False** if not\n",
        "\n",
        "\n",
        "**Assumptions**<br>\n",
        "**secret_word**: string, the word the user is guessing; assumes all letters are lowercase<br>\n",
        "**letters_guessed**: list (of letters), which letters have been guessed so far; assumes that all letters are lowercase<br>\n",
        "\n",
        "**Example**:-<br> \n",
        "secret_word = 'apple'<br>\n",
        "letters_guessed = ['e', 'a', 'k', 'p', 'l', 's']<br>\n",
        "is_word_guessed() will return True.<br><br> \n",
        "secret_word = 'apple'<br>\n",
        "letters_guessed = ['e', 'i', 'k', 'p', 'r', 's']<br>\n",
        "is_word_guessed() will return False.<br><br> \n",
        "\n",
        "\n",
        "\n"
      ]
    },
    {
      "cell_type": "code",
      "metadata": {
        "id": "WteQEY00AtG8"
      },
      "source": [
        "def is_Word_Guessed(secret_Word, letters_guessed):\n",
        "    for i in secret_Word:\n",
        "        if i not in letters_guessed:\n",
        "            return False\n",
        "    return True"
      ],
      "execution_count": 1,
      "outputs": []
    },
    {
      "cell_type": "markdown",
      "metadata": {
        "id": "MFBGlSnJAtG8"
      },
      "source": [
        "# Task 2\n",
        "Create a function **get_guessed_word** that takes in two arguments :-<br> **secret_word**, **letters_guessed** <br>**returns** string, comprised of known letters, and unknown letters represented by an underscore and a space (_ )<br>\n",
        "\n",
        "**Assumptions**<br>\n",
        "**secret_word**: string, the word the user is guessing;<br>\n",
        "**letters_guessed**: list (of letters), which letters have been guessed so far<br>\n",
        "\n",
        "**Example**:-<br>\n",
        "secret_word = 'apple'<br>\n",
        "letters_guessed = ['e', 'i', 'k', 'p', 'r', 's']<br>\n",
        "get_guessed_word() will return '_ pp_ e'\n",
        "\n",
        "```\n",
        "You want something like a_ _ _ d_ j and Not a___d_j,\n",
        "which might make it hard for the user to know how many characters are there to be guessed, \n",
        "that's why you want to use '_ ' instead of '_'\n",
        "```"
      ]
    },
    {
      "cell_type": "code",
      "metadata": {
        "id": "fv41bUFjAtG9"
      },
      "source": [
        "# importing modules needed for the project\n",
        "import random\n",
        "import string\n",
        "\n",
        "def get_guessed_word(secret_word, letters_guessed):   \n",
        "    \n",
        "    # FILL IN YOUR CODE HERE...\n",
        "    string = \"\"\n",
        "    for i in secret_word:\n",
        "        if i in letters_guessed:\n",
        "            string += i\n",
        "        else:\n",
        "            string += \"_\"\n",
        "    return string"
      ],
      "execution_count": 2,
      "outputs": []
    },
    {
      "cell_type": "markdown",
      "metadata": {
        "id": "QJOmOhv6AtG9"
      },
      "source": [
        "# Task 3\n",
        "\n",
        "Create a function **get_available_letter** that takes in one arguments <br> **letters_guessed** <br>**returns** string (of letters), comprised of letters that represents which letters have not yet been guessed.\n",
        "\n",
        "**Assumptions**<br>\n",
        "**letters_guessed**: list (of letters), which letters have been guessed so far;<br>\n",
        "\n",
        "**Example**:-<br>\n",
        "letters_guessed = [’a’, ’l’, ’m’]<br>\n",
        "get_available_letter() will return 'bcdefghijknopqrstuvwxyz'<br>\n",
        "```\n",
        "You might want to consider using string.ascii_lowercase :=\n",
        "\n",
        "import string\n",
        "print(string.ascii_lowercase)\n",
        "output:- abcdefghijklmnopqrstuvwxyz\n",
        "```"
      ]
    },
    {
      "cell_type": "code",
      "metadata": {
        "id": "eX4o3dt-AtG-"
      },
      "source": [
        "\n",
        "def get_available_letters(letters_guessed):\n",
        "    '''\n",
        "    letters_guessed: list (of letters), which letters have been guessed so far\n",
        "    returns: string (of letters), comprised of letters that represents which letters have not\n",
        "      yet been guessed.\n",
        "    '''\n",
        "    # FILL IN YOUR CODE HERE \n",
        "    string = \"abcdefghijklmnopqrstuvwxyz\"\n",
        "    temp = \"\"\n",
        "    for i in string:\n",
        "        if i not in letters_guessed:\n",
        "            temp += i\n",
        "    return temp\n",
        "    "
      ],
      "execution_count": 3,
      "outputs": []
    },
    {
      "cell_type": "markdown",
      "metadata": {
        "id": "j1n9FoARAtG-"
      },
      "source": [
        "### Great, We have created all of the Helper functions, now let's start our work on the actual Hangman Game\n",
        "\n",
        "# Hangman Game\n",
        "\n",
        "Create a function **hangman** that takes in one argument<br>\n",
        "**secret_word** :- string, the secret word to guess.<br>\n",
        "\n",
        "**The function should do the following**:-<br>\n",
        "Starts up an interactive game of Hangman.\n",
        "\n",
        "* At the start of the game, let the user know how many letters the secret_word contains and how many guesses s/he starts with.\n",
        "\n",
        "* The user should start with 6 guesses\n",
        "\n",
        "* Before each round, you should display to the user how many guesses s/he has left and the letters that the user has not yet guessed.\n",
        "\n",
        "* Ask the user to supply one guess per round. Remember to make sure that the user puts in a letter!\n",
        "\n",
        "* The user should receive feedback immediately after each guess about whether their guess appears in the computer's word.\n",
        "\n",
        "* After each guess, you should display to the user the partially guessed word so far.\n",
        "\n",
        "* If the user inputs a letter that hasn’t been guessed before and the letter is in the secret word, the user loses no guesses.\n",
        "\n",
        "* Consonants: If the user inputs a consonant that hasn’t been guessed and the consonant is not in the secret word, the user loses one guess if it’s a consonant.\n",
        "* Vowels: If the vowel hasn’t been guessed and the vowel is not in the secret word, the user loses two guesses. Vowels are a, e, i, o, and u. y does not count as a vowel.\n",
        "\n",
        "* The game should end when the user constructs the full word or runs out of guesses.\n",
        "* If the player runs out of guesses before completing the word, tell them they lost and reveal the word to the user when the game ends.\n",
        "* If the user wins, print a congratulatory message and tell the user their score.\n",
        "* The total score is the number of guesses_remaining once the user has guessed the secret_word times the number of unique letters in secret_word.\n",
        "```\n",
        "Total score = guesses_remaining * number unique letters in secret_word\n",
        "```"
      ]
    },
    {
      "cell_type": "markdown",
      "metadata": {
        "id": "pBkF9mEVAtG_"
      },
      "source": [
        "## Demo Game 1\n",
        "```\n",
        "Welcome to the game Hangman!\n",
        "I am thinking of a word that is 4 letters long.\n",
        "-------------\n",
        "You have 6 guesses left.\n",
        "Available letters: abcdefghijklmnopqrstuvwxyz\n",
        "Please guess a letter: ​a\n",
        "Good guess: _ a_ _\n",
        "------------\n",
        "You have 6 guesses left.\n",
        "Available letters: bcdefghijklmnopqrstuvwxyz\n",
        "Please guess a letter: ​s\n",
        "Oops! That letter is not in my word.\n",
        "Please guess a letter: _ a_ _\n",
        "------------\n",
        "You have 5 guesses left.\n",
        "Available letters: bcdefghijklmnopqrtuvwxyz\n",
        "Please guess a letter: ​t\n",
        "Good guess: ta_ t\n",
        "------------\n",
        "You have 5 guesses left.\n",
        "Available letters: bcdefghijklmnopqrtuvwxyz\n",
        "Please guess a letter: ​e\n",
        "Oops! That letter is not in my word: ta_ t\n",
        "------------\n",
        "You have 3 guesses left.\n",
        "Available letters: bcdfghijklnopquvwxyz Please guess a letter: ​c\n",
        "Good guess: tact\n",
        "------------\n",
        "Congratulations, you won!\n",
        "Your total score for this game is: 6\n",
        "```"
      ]
    },
    {
      "cell_type": "markdown",
      "metadata": {
        "id": "kWmVvxTxAtHA"
      },
      "source": [
        "## Demo Game 2\n",
        "```\n",
        "Welcome to the game Hangman!\n",
        "I am thinking of a word that is 4 letters long\n",
        "-----------\n",
        "You have 6 guesses left\n",
        "Available Letters: abcdefghijklmnopqrstuvwxyz\n",
        "Please guess a letter: ​a\n",
        "Oops! That letter is not in my word: _ _ _ _\n",
        "-----------\n",
        "You have 4 guesses left\n",
        "Available Letters: bcdefghijklmnopqrstuvwxyz\n",
        "Please guess a letter: ​b\n",
        "Oops! That letter is not in my word: _ _ _ _\n",
        "-----------\n",
        "You have 3 guesses left\n",
        "Available Letters: cdefghijklmnopqrstuvwxyz\n",
        "Please guess a letter: ​c\n",
        "Oops! That letter is not in my word: _ _ _ _\n",
        "-----------\n",
        "You have 2 guesses left\n",
        "Available Letters: defghijklmnopqrstuvwxyz\n",
        "Please guess a letter: ​d\n",
        "Oops! That letter is not in my word: _ _ _ _\n",
        "-----------\n",
        "You have 1 guesses left\n",
        "Available Letters: efghijklmnopqrstuvwxyz\n",
        "Please guess a letter: ​e\n",
        "Good guess: e_ _ e\n",
        "-----------\n",
        "You have 1 guesses left\n",
        "Available Letters: fghijklmnopqrstuvwxyz\n",
        "Please guess a letter: ​f\n",
        "Oops! That letter is not in my word: e_ _ e\n",
        "-----------\n",
        "Sorry, you ran out of guesses. The word was else.\n",
        "```"
      ]
    },
    {
      "cell_type": "markdown",
      "metadata": {
        "id": "x9R583uWAtHA"
      },
      "source": [
        "## Hints\n",
        "**Try to keep the output as similar to the one's above**<br>\n",
        "**Hints:-**\n",
        "```\n",
        "1. Consider writing additional helper functions if you need them.\n",
        "2. There are four important pieces of information you may wish to store:\n",
        "a. secret_word​: The word to guess. This is already used as the parameter name for the ​hangman​ function.\n",
        "b. letters_guessed​: The letters that have been guessed so far. If they guess a letter that is already in ​letters_guessed​, you should print a message telling them they've already guessed that but do not penalize them for it.\n",
        "c. guesses_remaining​: The number of guesses the user has left. Note that in our example game, the penalty for choosing an incorrect vowel is different than the penalty for choosing an incorrect consonant.\n",
        "```"
      ]
    },
    {
      "cell_type": "code",
      "metadata": {
        "id": "L-KVZf8yAtHB"
      },
      "source": [
        "\n",
        "#def no_of_unique_words(string):\n",
        "    #code here  \n",
        "def hangman(secret_word):\n",
        "    # FILL IN YOUR CODE HERE...\n",
        "    print (\"Welcome to the game, Hangman!\")\n",
        "    print (\"I'm thinking of a word that is \" + str(len(secret_word)) + \" letters long.\")\n",
        "    letters_guessed = ''\n",
        "    guessesLeft = 8\n",
        "    print (\"------------\")\n",
        "    while True:\n",
        "        print (\"You have \" + str(guessesLeft) + \" guesses left.\")\n",
        "        print (\"Available letters: \" + get_available_letters(letters_guessed))\n",
        "        guess = input(\"Please guess a letter: \")\n",
        "        if guess in secret_word and guess not in letters_guessed:\n",
        "            letters_guessed += guess\n",
        "            print (\"Good guess: \" + get_guessed_word(secret_word, letters_guessed))\n",
        "        elif guess in letters_guessed:\n",
        "            print (\"Oops! You've already guessed that letter: \" + get_guessed_word(secret_word, letters_guessed))\n",
        "        else:\n",
        "            letters_guessed += guess\n",
        "            print (\"Oops! That letter is not in my word: \" + get_guessed_word(secret_word, letters_guessed))\n",
        "            guessesLeft -= 1\n",
        "        print (\"------------\")\n",
        "        if guessesLeft <= 0:\n",
        "            print (\"Sorry, You've ran out of guesses. The word was \" + secret_word + \".\")\n",
        "            break\n",
        "        if is_Word_Guessed(secret_word, letters_guessed):\n",
        "            print (\"Congratulations! You've won!\")\n",
        "            break"
      ],
      "execution_count": 10,
      "outputs": []
    },
    {
      "cell_type": "code",
      "metadata": {
        "id": "WitH4nRg3ynX"
      },
      "source": [
        "\n"
      ],
      "execution_count": null,
      "outputs": []
    },
    {
      "cell_type": "code",
      "metadata": {
        "id": "0AQ01QOVAtHB",
        "colab": {
          "base_uri": "https://localhost:8080/"
        },
        "outputId": "4a465575-a872-48b3-b99f-a600813f2211"
      },
      "source": [
        "# When you've completed your hangman function, test it out to see it is working fine\n",
        "# (hint: you might want to pick your own\n",
        "# secret_word while you're doing your own testing by changing 'apple' to any other string)\n",
        "hangman('apple')"
      ],
      "execution_count": 11,
      "outputs": [
        {
          "output_type": "stream",
          "text": [
            "Welcome to the game, Hangman!\n",
            "I'm thinking of a word that is 5 letters long.\n",
            "------------\n",
            "You have 8 guesses left.\n",
            "Available letters: abcdefghijklmnopqrstuvwxyz\n",
            "Please guess a letter: a\n",
            "Good guess: a____\n",
            "------------\n",
            "You have 8 guesses left.\n",
            "Available letters: bcdefghijklmnopqrstuvwxyz\n",
            "Please guess a letter: d\n",
            "Oops! That letter is not in my word: a____\n",
            "------------\n",
            "You have 7 guesses left.\n",
            "Available letters: bcefghijklmnopqrstuvwxyz\n",
            "Please guess a letter: l\n",
            "Good guess: a__l_\n",
            "------------\n",
            "You have 7 guesses left.\n",
            "Available letters: bcefghijkmnopqrstuvwxyz\n",
            "Please guess a letter: e\n",
            "Good guess: a__le\n",
            "------------\n",
            "You have 7 guesses left.\n",
            "Available letters: bcfghijkmnopqrstuvwxyz\n",
            "Please guess a letter: s\n",
            "Oops! That letter is not in my word: a__le\n",
            "------------\n",
            "You have 6 guesses left.\n",
            "Available letters: bcfghijkmnopqrtuvwxyz\n",
            "Please guess a letter: t\n",
            "Oops! That letter is not in my word: a__le\n",
            "------------\n",
            "You have 5 guesses left.\n",
            "Available letters: bcfghijkmnopqruvwxyz\n",
            "Please guess a letter: p\n",
            "Good guess: apple\n",
            "------------\n",
            "Congratulations! You've won!\n"
          ],
          "name": "stdout"
        }
      ]
    },
    {
      "cell_type": "markdown",
      "metadata": {
        "id": "aKJf3lV9AtHC"
      },
      "source": [
        "## Congratulations all of your hardwork paid of, you have just created the Hangman Game<br>\n",
        "**now go ahead and play the game you created, run the cell below**\n",
        "\n"
      ]
    },
    {
      "cell_type": "code",
      "metadata": {
        "id": "rJQbL4WXAtHC",
        "colab": {
          "base_uri": "https://localhost:8080/"
        },
        "outputId": "a2b50bfd-2f80-4ead-bb24-e890d4a2eff9"
      },
      "source": [
        "words = ['army', 'beautiful', 'became', 'if', 'actually', 'beside', 'between','come','eye','five','fur','imposter', 'problem' ,'revenge' ,'few' ,'circle' ,'district','trade','quota','stop','depressed','disorder','dentist']\n",
        "\n",
        "#choose a random word from list using random.choice() function\n",
        "random_word = random.choice(words)\n",
        "\n",
        "#check you function\n",
        "hangman(random_word)"
      ],
      "execution_count": 13,
      "outputs": [
        {
          "output_type": "stream",
          "text": [
            "Welcome to the game, Hangman!\n",
            "I'm thinking of a word that is 6 letters long.\n",
            "------------\n",
            "You have 8 guesses left.\n",
            "Available letters: abcdefghijklmnopqrstuvwxyz\n",
            "Please guess a letter: p\n",
            "Oops! That letter is not in my word: ______\n",
            "------------\n",
            "You have 7 guesses left.\n",
            "Available letters: abcdefghijklmnoqrstuvwxyz\n",
            "Please guess a letter: b\n",
            "Oops! That letter is not in my word: ______\n",
            "------------\n",
            "You have 6 guesses left.\n",
            "Available letters: acdefghijklmnoqrstuvwxyz\n",
            "Please guess a letter: c\n",
            "Good guess: c__c__\n",
            "------------\n",
            "You have 6 guesses left.\n",
            "Available letters: adefghijklmnoqrstuvwxyz\n",
            "Please guess a letter: i\n",
            "Good guess: ci_c__\n",
            "------------\n",
            "You have 6 guesses left.\n",
            "Available letters: adefghjklmnoqrstuvwxyz\n",
            "Please guess a letter: r\n",
            "Good guess: circ__\n",
            "------------\n",
            "You have 6 guesses left.\n",
            "Available letters: adefghjklmnoqstuvwxyz\n",
            "Please guess a letter: l\n",
            "Good guess: circl_\n",
            "------------\n",
            "You have 6 guesses left.\n",
            "Available letters: adefghjkmnoqstuvwxyz\n",
            "Please guess a letter: e\n",
            "Good guess: circle\n",
            "------------\n",
            "Congratulations! You've won!\n"
          ],
          "name": "stdout"
        }
      ]
    },
    {
      "cell_type": "markdown",
      "metadata": {
        "id": "2ZQ29BTAAtHD"
      },
      "source": [
        "--------------------------------------\n",
        "Wohooo! You did a really good job. We hope you enjoyed your first mini python project here. \n",
        "\n",
        "We understand it was bit challenging and time taking, but it's worth it, coz here you are to achieve your goal and this course will help you in all posible way to make your dreams come true.\n",
        "\n"
      ]
    },
    {
      "cell_type": "markdown",
      "metadata": {
        "id": "HAXVuz6jAtHD"
      },
      "source": [
        "\n",
        "\n",
        "----------------------------------------------------------------------"
      ]
    },
    {
      "cell_type": "markdown",
      "metadata": {
        "id": "aPNtEorsAtHD"
      },
      "source": [
        "# Bam!, you completed the second milestone challenge too:)!! "
      ]
    },
    {
      "cell_type": "markdown",
      "metadata": {
        "id": "nrueWMUGAtHE"
      },
      "source": [
        "# FeedBack\n",
        "We hope you’ve enjoyed this course so far. We’re committed to help you use \"AI for All\" course to its full potential, so that you have a great learning experience. And that’s why we need your help in form of a feedback here.\n",
        "\n",
        "Please fill this feedback form https://docs.google.com/forms/d/e/1FAIpQLSfjBmH0yJSSA34IhSVx4h2eDMgOAeG4Dk-yHid__NMTk3Hq5g/viewform"
      ]
    }
  ]
}